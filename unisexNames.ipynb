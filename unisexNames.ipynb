{
 "cells": [
  {
   "cell_type": "code",
   "execution_count": 2,
   "metadata": {},
   "outputs": [],
   "source": [
    "import pandas as pd"
   ]
  },
  {
   "cell_type": "code",
   "execution_count": 10,
   "metadata": {},
   "outputs": [
    {
     "data": {
      "text/html": [
       "<div>\n",
       "<style scoped>\n",
       "    .dataframe tbody tr th:only-of-type {\n",
       "        vertical-align: middle;\n",
       "    }\n",
       "\n",
       "    .dataframe tbody tr th {\n",
       "        vertical-align: top;\n",
       "    }\n",
       "\n",
       "    .dataframe thead th {\n",
       "        text-align: right;\n",
       "    }\n",
       "</style>\n",
       "<table border=\"1\" class=\"dataframe\">\n",
       "  <thead>\n",
       "    <tr style=\"text-align: right;\">\n",
       "      <th></th>\n",
       "      <th>name</th>\n",
       "      <th>total</th>\n",
       "      <th>male_share</th>\n",
       "      <th>female_share</th>\n",
       "      <th>gap</th>\n",
       "    </tr>\n",
       "  </thead>\n",
       "  <tbody>\n",
       "    <tr>\n",
       "      <th>0</th>\n",
       "      <td>Casey</td>\n",
       "      <td>176544.328149</td>\n",
       "      <td>0.584287</td>\n",
       "      <td>0.415713</td>\n",
       "      <td>0.168573</td>\n",
       "    </tr>\n",
       "    <tr>\n",
       "      <th>1</th>\n",
       "      <td>Riley</td>\n",
       "      <td>154860.665173</td>\n",
       "      <td>0.507639</td>\n",
       "      <td>0.492361</td>\n",
       "      <td>0.015278</td>\n",
       "    </tr>\n",
       "    <tr>\n",
       "      <th>2</th>\n",
       "      <td>Jessie</td>\n",
       "      <td>136381.830656</td>\n",
       "      <td>0.477834</td>\n",
       "      <td>0.522166</td>\n",
       "      <td>0.044331</td>\n",
       "    </tr>\n",
       "    <tr>\n",
       "      <th>3</th>\n",
       "      <td>Jackie</td>\n",
       "      <td>132928.788740</td>\n",
       "      <td>0.421133</td>\n",
       "      <td>0.578867</td>\n",
       "      <td>0.157735</td>\n",
       "    </tr>\n",
       "    <tr>\n",
       "      <th>4</th>\n",
       "      <td>Avery</td>\n",
       "      <td>121797.419516</td>\n",
       "      <td>0.335213</td>\n",
       "      <td>0.664787</td>\n",
       "      <td>0.329574</td>\n",
       "    </tr>\n",
       "  </tbody>\n",
       "</table>\n",
       "</div>"
      ],
      "text/plain": [
       "     name          total  male_share  female_share       gap\n",
       "0   Casey  176544.328149    0.584287      0.415713  0.168573\n",
       "1   Riley  154860.665173    0.507639      0.492361  0.015278\n",
       "2  Jessie  136381.830656    0.477834      0.522166  0.044331\n",
       "3  Jackie  132928.788740    0.421133      0.578867  0.157735\n",
       "4   Avery  121797.419516    0.335213      0.664787  0.329574"
      ]
     },
     "execution_count": 10,
     "metadata": {},
     "output_type": "execute_result"
    }
   ],
   "source": [
    "names_df = pd.read_csv(\n",
    "    \"https://github.com/fivethirtyeight/data/raw/refs/heads/master/unisex-names/unisex_names_table.csv\"\n",
    ")\n",
    "names_df.columns\n",
    "names_df = names_df.drop(\"Unnamed: 0\", axis=1)\n",
    "names_df.head()"
   ]
  },
  {
   "cell_type": "markdown",
   "metadata": {},
   "source": [
    "## Most Popular Gender Neutral Names"
   ]
  },
  {
   "cell_type": "code",
   "execution_count": 11,
   "metadata": {},
   "outputs": [
    {
     "name": "stdout",
     "output_type": "stream",
     "text": [
      "     name          total  male_share  female_share       gap\n",
      "0   Casey  176544.328149    0.584287      0.415713  0.168573\n",
      "1   Riley  154860.665173    0.507639      0.492361  0.015278\n",
      "2  Jessie  136381.830656    0.477834      0.522166  0.044331\n",
      "3  Jackie  132928.788740    0.421133      0.578867  0.157735\n",
      "4   Avery  121797.419516    0.335213      0.664787  0.329574\n"
     ]
    }
   ],
   "source": [
    "# Sort the DataFrame by 'total' in descending order and select the top 5\n",
    "top_5_names = names_df.sort_values(by=\"total\", ascending=False).head(5)\n",
    "\n",
    "# Display the result\n",
    "print(top_5_names)"
   ]
  },
  {
   "cell_type": "markdown",
   "metadata": {},
   "source": [
    "## Gender Gap Analysis"
   ]
  },
  {
   "cell_type": "code",
   "execution_count": 12,
   "metadata": {},
   "outputs": [
    {
     "name": "stdout",
     "output_type": "stream",
     "text": [
      "Top 5 names with the largest gender gaps:\n",
      "          name       total  male_share  female_share       gap\n",
      "639     Aldean  262.841418    0.333561      0.666439  0.332879\n",
      "667  Oluwaseyi  237.927401    0.666278      0.333722  0.332555\n",
      "698    Kamarri  217.436651    0.666259      0.333741  0.332519\n",
      "756     Vernis  172.896311    0.666205      0.333795  0.332409\n",
      "565      Karem  345.429988    0.333961      0.666039  0.332078\n",
      "\n",
      "Top 5 names with the smallest gender gaps (most gender-neutral):\n",
      "         name        total  male_share  female_share       gap\n",
      "622     Bless   279.904057    0.499964      0.500036  0.000072\n",
      "108    Camdyn  3274.913501    0.499923      0.500077  0.000154\n",
      "431     Kodee   533.325804    0.500158      0.499842  0.000316\n",
      "609  Callaway   291.851857    0.499772      0.500228  0.000455\n",
      "814      Tkai   142.846541    0.499715      0.500285  0.000570\n"
     ]
    }
   ],
   "source": [
    "# Find the top 5 names with the largest gender gaps\n",
    "largest_gaps = names_df.sort_values(by=\"gap\", ascending=False).head(5)\n",
    "\n",
    "# Find the top 5 names with the smallest gender gaps\n",
    "smallest_gaps = names_df.sort_values(by=\"gap\", ascending=True).head(5)\n",
    "\n",
    "# Display the results\n",
    "print(\"Top 5 names with the largest gender gaps:\")\n",
    "print(largest_gaps)\n",
    "\n",
    "print(\"\\nTop 5 names with the smallest gender gaps (most gender-neutral):\")\n",
    "print(smallest_gaps)"
   ]
  }
 ],
 "metadata": {
  "kernelspec": {
   "display_name": "base",
   "language": "python",
   "name": "python3"
  },
  "language_info": {
   "codemirror_mode": {
    "name": "ipython",
    "version": 3
   },
   "file_extension": ".py",
   "mimetype": "text/x-python",
   "name": "python",
   "nbconvert_exporter": "python",
   "pygments_lexer": "ipython3",
   "version": "3.12.6"
  }
 },
 "nbformat": 4,
 "nbformat_minor": 2
}
